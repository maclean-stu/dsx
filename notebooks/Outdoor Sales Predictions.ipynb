{
    "nbformat_minor": 1, 
    "metadata": {
        "language_info": {
            "pygments_lexer": "ipython2", 
            "name": "python", 
            "file_extension": ".py", 
            "mimetype": "text/x-python", 
            "codemirror_mode": {
                "name": "ipython", 
                "version": 2
            }, 
            "nbconvert_exporter": "python", 
            "version": "2.7.11"
        }, 
        "kernelspec": {
            "language": "python", 
            "name": "python2-spark20", 
            "display_name": "Python 2 with Spark 2.0"
        }
    }, 
    "cells": [
        {
            "source": "<table style=\"border: none\" align=\"left\">\n   <tr style=\"border: none\">\n      <th style=\"border: none\"><font face=\"verdana\" size=\"5\" color=\"black\"><b>Predict outdoor equipment purchase with IBM Watson Machine Learning</b></th>\n      <th style=\"border: none\"><img src=\"https://github.com/pmservice/customer-satisfaction-prediction/blob/master/app/static/images/ml_icon_gray.png?raw=true\" alt=\"Watson Machine Learning icon\" height=\"40\" width=\"40\"></th>\n   </tr>\n   <tr style=\"border: none\">\n       <th style=\"border: none\"><img src=\"https://github.com/pmservice/wml-sample-models/blob/master/spark/product-line-prediction/images/products_graphics.png?raw=true\" alt=\"Icon\"> </th>\n   </tr>\n</table>", 
            "metadata": {}, 
            "cell_type": "markdown"
        }, 
        {
            "source": "This notebook contains steps and code to get data from the IBM Data Science Experience Community, create a predictive model, and start scoring new data. This notebook introduces commands for getting data and for basic data cleaning and exploration, pipeline creation, model training, model persistance to Watson Machine Learning repository, model deployment, and scoring.\n\nSome familiarity with Python is helpful. This notebook uses Python 2.0 and Apache\u00ae Spark 2.0.\n\nYou will use a publicly available data set, **GoSales Transactions for Naive Bayes Model**, which details anonymous outdoor equipment purchases. Use the details of this data set to predict clients' interests in terms of product line, such as golf accessories, camping equipment, and others.\n\n## Learning goals\n\nThe learning goals of this notebook are:\n\n-  Load a CSV file into an Apache\u00ae Spark DataFrame.\n-  Explore data.\n-  Prepare data for training and evaluation.\n-  Create an Apache\u00ae Spark machine learning pipeline.\n-  Train and evaluate a model.\n-  Persist a pipeline and model in Watson Machine Learning repository.\n-  Deploy a model for online scoring using Wastson Machine Learning API.\n-  Score sample scoring data using the Watson Machine Learning API.\n-  Explore and visualize prediction result using the plotly package.\n\n\n## Contents\n\nThis notebook contains the following parts:\n\n1.\t[Setup](#setup)\n2.\t[Load and explore data](#load)\n3.\t[Create spark ml model](#model)\n4.\t[Persist model](#persistence)\n5.\t[Predict locally and visualize](#visualization)\n6.\t[Deploy and score in a Cloud](#scoring)\n7.\t[Summary and next steps](#summary)", 
            "metadata": {}, 
            "cell_type": "markdown"
        }, 
        {
            "source": "<a id=\"setup\"></a>\n## 1. Setup\n\nBefore you use the sample code in this notebook, you must perform the following setup tasks:\n\n-  Create a [Watson Machine Learning Service](https://console.ng.bluemix.net/catalog/services/ibm-watson-machine-learning/) instance (a free plan is offered). \n-  Upload **GoSales Transactions** data as a data asset in IBM Data Science Experience.\n-  Make sure that you are using a Spark 2.0 kernel.\n\n### Create the GoSales Transactions Data Asset  \n\nThe GOSales data is a freely available data set on the Data Science Experience home page.\n\n1.  Go to the [GoSales Transactions for Naive Bayes Model](https://apsportal.ibm.com/exchange-api/v1/entries/8044492073eb964f46597b4be06ff5ea/data?accessKey=9561295fa407698694b1e254d0099600) data card on the Data Science Experience **Community** page and open the card by double-clicking it.\n2.  Click the link icon.\n4.  Select the link, copy it by pressing Ctrl+C, and then, click **Close**.\n5.  In the following cell, replace the **link_to_data** variable value with the link.", 
            "metadata": {}, 
            "cell_type": "markdown"
        }, 
        {
            "source": "<a id=\"load\"></a>\n## 2. Load and explore data", 
            "metadata": {}, 
            "cell_type": "markdown"
        }, 
        {
            "source": "In this section you will load the data as an Apache\u00ae Spark DataFrame and perform a basic exploration.\n\nLoad the data to the Spark DataFrame by using *wget* to upload the data to gpfs and then *read* method. ", 
            "metadata": {}, 
            "cell_type": "markdown"
        }, 
        {
            "source": "**Example**: First, you need to install required packages. You can do it by running the following code. Run it only one time.<BR><BR>\n!pip install wget --user <BR>", 
            "metadata": {}, 
            "cell_type": "markdown"
        }, 
        {
            "execution_count": 65, 
            "source": "import wget\n\nlink_to_data = 'https://apsportal.ibm.com/exchange-api/v1/entries/8044492073eb964f46597b4be06ff5ea/data?accessKey=4d426bda2e8e03cb15c3fe533badcacf'\nfilename = wget.download(link_to_data)\n\nprint filename", 
            "metadata": {}, 
            "cell_type": "code", 
            "outputs": [
                {
                    "name": "stdout", 
                    "output_type": "stream", 
                    "text": "GoSales_Tx_NaiveBayes.csv\n"
                }
            ]
        }, 
        {
            "source": "The csv file GoSales_Tx_NaiveBayes.csv is availble on gpfs now. Load the file to Apache\u00ae Spark DataFrame using code below.", 
            "metadata": {}, 
            "cell_type": "markdown"
        }, 
        {
            "execution_count": 66, 
            "source": "spark = SparkSession.builder.getOrCreate()\n\ndf_data = spark.read\\\n  .format('org.apache.spark.sql.execution.datasources.csv.CSVFileFormat')\\\n  .option('header', 'true')\\\n  .option('inferSchema', 'true')\\\n  .load(filename)\ndf_data.take(3)", 
            "metadata": {}, 
            "cell_type": "code", 
            "outputs": [
                {
                    "execution_count": 66, 
                    "data": {
                        "text/plain": "[Row(PRODUCT_LINE=u'Personal Accessories', GENDER=u'M', AGE=27, MARITAL_STATUS=u'Single', PROFESSION=u'Professional'),\n Row(PRODUCT_LINE=u'Personal Accessories', GENDER=u'F', AGE=39, MARITAL_STATUS=u'Married', PROFESSION=u'Other'),\n Row(PRODUCT_LINE=u'Mountaineering Equipment', GENDER=u'F', AGE=39, MARITAL_STATUS=u'Married', PROFESSION=u'Other')]"
                    }, 
                    "metadata": {}, 
                    "output_type": "execute_result"
                }
            ]
        }, 
        {
            "source": "Explore the loaded data by using the following Apache\u00ae Spark DataFrame methods:\n-  print schema\n-  print top ten records\n-  count all records", 
            "metadata": {}, 
            "cell_type": "markdown"
        }, 
        {
            "execution_count": 67, 
            "source": "df_data.printSchema()", 
            "metadata": {}, 
            "cell_type": "code", 
            "outputs": [
                {
                    "name": "stdout", 
                    "output_type": "stream", 
                    "text": "root\n |-- PRODUCT_LINE: string (nullable = true)\n |-- GENDER: string (nullable = true)\n |-- AGE: integer (nullable = true)\n |-- MARITAL_STATUS: string (nullable = true)\n |-- PROFESSION: string (nullable = true)\n\n"
                }
            ]
        }, 
        {
            "source": "As you can see, the data contains five fields. PRODUCT_LINE field is the one we would like to predict (label).", 
            "metadata": {}, 
            "cell_type": "markdown"
        }, 
        {
            "execution_count": 68, 
            "source": "df_data.show()", 
            "metadata": {}, 
            "cell_type": "code", 
            "outputs": [
                {
                    "name": "stdout", 
                    "output_type": "stream", 
                    "text": "+--------------------+------+---+--------------+------------+\n|        PRODUCT_LINE|GENDER|AGE|MARITAL_STATUS|  PROFESSION|\n+--------------------+------+---+--------------+------------+\n|Personal Accessories|     M| 27|        Single|Professional|\n|Personal Accessories|     F| 39|       Married|       Other|\n|Mountaineering Eq...|     F| 39|       Married|       Other|\n|Personal Accessories|     F| 56|   Unspecified| Hospitality|\n|      Golf Equipment|     M| 45|       Married|     Retired|\n|      Golf Equipment|     M| 45|       Married|     Retired|\n|   Camping Equipment|     F| 39|       Married|       Other|\n|   Camping Equipment|     F| 49|       Married|       Other|\n|  Outdoor Protection|     F| 49|       Married|       Other|\n|      Golf Equipment|     M| 47|       Married|     Retired|\n|      Golf Equipment|     M| 47|       Married|     Retired|\n|Mountaineering Eq...|     M| 21|        Single|      Retail|\n|Personal Accessories|     F| 66|       Married|       Other|\n|   Camping Equipment|     F| 35|       Married|Professional|\n|Mountaineering Eq...|     M| 20|        Single|       Sales|\n|Mountaineering Eq...|     M| 20|        Single|       Sales|\n|Mountaineering Eq...|     M| 20|        Single|       Sales|\n|Personal Accessories|     F| 37|        Single|       Other|\n|   Camping Equipment|     M| 42|       Married|       Other|\n|   Camping Equipment|     F| 24|       Married|      Retail|\n+--------------------+------+---+--------------+------------+\nonly showing top 20 rows\n\n"
                }
            ]
        }, 
        {
            "execution_count": 69, 
            "source": "df_data.count()", 
            "metadata": {}, 
            "cell_type": "code", 
            "outputs": [
                {
                    "execution_count": 69, 
                    "data": {
                        "text/plain": "60252"
                    }, 
                    "metadata": {}, 
                    "output_type": "execute_result"
                }
            ]
        }, 
        {
            "source": "As you can see, the data set contains 60252 records.", 
            "metadata": {}, 
            "cell_type": "markdown"
        }, 
        {
            "source": "<a id=\"model\"></a>\n## 3. Create an Apache\u00ae Spark machine learning model\n\nIn this section you will learn how to prepare data, create an Apache\u00ae Spark machine learning pipeline, and train a model.", 
            "metadata": {}, 
            "cell_type": "markdown"
        }, 
        {
            "source": "### 3.1: Prepare data\n\nIn this subsection you will split your data into: train, test and predict datasets.", 
            "metadata": {}, 
            "cell_type": "markdown"
        }, 
        {
            "execution_count": 70, 
            "source": "splitted_data = df_data.randomSplit([0.8, 0.18, 0.02], 24)\ntrain_data = splitted_data[0]\ntest_data = splitted_data[1]\npredict_data = splitted_data[2]\n\nprint \"Number of training records: \" + str(train_data.count())\nprint \"Number of testing records : \" + str(test_data.count())\nprint \"Number of prediction records : \" + str(predict_data.count())", 
            "metadata": {}, 
            "cell_type": "code", 
            "outputs": [
                {
                    "name": "stdout", 
                    "output_type": "stream", 
                    "text": "Number of training records: 48176\nNumber of testing records : 10860\nNumber of prediction records : 1216\n"
                }
            ]
        }, 
        {
            "source": "As you can see our data has been successfully split into three datasets: \n\n-  The train data set, which is the largest group, is used for training.\n-  The test data set will be used for model evaluation and is used to test the assumptions of the model.\n-  The predict data set will be used for prediction.", 
            "metadata": {}, 
            "cell_type": "markdown"
        }, 
        {
            "source": "### 3.2: Create pipeline and train a model", 
            "metadata": {}, 
            "cell_type": "markdown"
        }, 
        {
            "source": "In this section you will create an Apache\u00ae Spark machine learning pipeline and then train the model.", 
            "metadata": {}, 
            "cell_type": "markdown"
        }, 
        {
            "source": "In the first step you need to import the Apache\u00ae Spark machine learning packages that will be needed in the subsequent steps.", 
            "metadata": {}, 
            "cell_type": "markdown"
        }, 
        {
            "execution_count": 71, 
            "source": "from pyspark.ml.feature import OneHotEncoder, StringIndexer, IndexToString, VectorAssembler\nfrom pyspark.ml.classification import RandomForestClassifier\nfrom pyspark.ml.evaluation import MulticlassClassificationEvaluator\nfrom pyspark.ml import Pipeline, Model", 
            "metadata": {
                "collapsed": true
            }, 
            "cell_type": "code", 
            "outputs": []
        }, 
        {
            "source": "In the following step, convert all the string fields to numeric ones by using the StringIndexer transformer.", 
            "metadata": {}, 
            "cell_type": "markdown"
        }, 
        {
            "execution_count": 72, 
            "source": "stringIndexer_label = StringIndexer(inputCol=\"PRODUCT_LINE\", outputCol=\"label\").fit(df_data)\nstringIndexer_prof = StringIndexer(inputCol=\"PROFESSION\", outputCol=\"PROFESSION_IX\")\nstringIndexer_gend = StringIndexer(inputCol=\"GENDER\", outputCol=\"GENDER_IX\")\nstringIndexer_mar = StringIndexer(inputCol=\"MARITAL_STATUS\", outputCol=\"MARITAL_STATUS_IX\")", 
            "metadata": {
                "collapsed": true
            }, 
            "cell_type": "code", 
            "outputs": []
        }, 
        {
            "source": "In the following step, create a feature vector by combining all features together.", 
            "metadata": {}, 
            "cell_type": "markdown"
        }, 
        {
            "execution_count": 73, 
            "source": "vectorAssembler_features = VectorAssembler(inputCols=[\"GENDER_IX\", \"AGE\", \"MARITAL_STATUS_IX\", \"PROFESSION_IX\"], outputCol=\"features\")", 
            "metadata": {
                "collapsed": true
            }, 
            "cell_type": "code", 
            "outputs": []
        }, 
        {
            "source": "Next, define estimators you want to use for classification. Random Forest is used in the following example.", 
            "metadata": {}, 
            "cell_type": "markdown"
        }, 
        {
            "execution_count": 74, 
            "source": "rf = RandomForestClassifier(labelCol=\"label\", featuresCol=\"features\")", 
            "metadata": {
                "collapsed": true
            }, 
            "cell_type": "code", 
            "outputs": []
        }, 
        {
            "source": "Finally, indexed labels back to original labels.", 
            "metadata": {}, 
            "cell_type": "markdown"
        }, 
        {
            "execution_count": 75, 
            "source": "labelConverter = IndexToString(inputCol=\"prediction\", outputCol=\"predictedLabel\", labels=stringIndexer_label.labels)", 
            "metadata": {
                "collapsed": true
            }, 
            "cell_type": "code", 
            "outputs": []
        }, 
        {
            "source": "Let's build the pipeline now. A pipeline consists of transformers and an estimator.", 
            "metadata": {}, 
            "cell_type": "markdown"
        }, 
        {
            "execution_count": 76, 
            "source": "pipeline_rf = Pipeline(stages=[stringIndexer_label, stringIndexer_prof, stringIndexer_gend, stringIndexer_mar, vectorAssembler_features, rf, labelConverter])", 
            "metadata": {
                "collapsed": true
            }, 
            "cell_type": "code", 
            "outputs": []
        }, 
        {
            "source": "Now, you can train your Random Forest model by using the previously defined **pipeline** and **train data**.", 
            "metadata": {}, 
            "cell_type": "markdown"
        }, 
        {
            "execution_count": 77, 
            "source": "train_data.printSchema()", 
            "metadata": {}, 
            "cell_type": "code", 
            "outputs": [
                {
                    "name": "stdout", 
                    "output_type": "stream", 
                    "text": "root\n |-- PRODUCT_LINE: string (nullable = true)\n |-- GENDER: string (nullable = true)\n |-- AGE: integer (nullable = true)\n |-- MARITAL_STATUS: string (nullable = true)\n |-- PROFESSION: string (nullable = true)\n\n"
                }
            ]
        }, 
        {
            "execution_count": 78, 
            "source": "model_rf = pipeline_rf.fit(train_data)", 
            "metadata": {
                "collapsed": true
            }, 
            "cell_type": "code", 
            "outputs": []
        }, 
        {
            "source": "You can check your **model accuracy** now. To evaluate the model, use **test data**.", 
            "metadata": {}, 
            "cell_type": "markdown"
        }, 
        {
            "execution_count": 79, 
            "source": "predictions = model_rf.transform(test_data)\nevaluatorRF = MulticlassClassificationEvaluator(labelCol=\"label\", predictionCol=\"prediction\", metricName=\"accuracy\")\naccuracy = evaluatorRF.evaluate(predictions)\nprint(\"Accuracy = %g\" % accuracy)\nprint(\"Test Error = %g\" % (1.0 - accuracy))", 
            "metadata": {}, 
            "cell_type": "code", 
            "outputs": [
                {
                    "name": "stdout", 
                    "output_type": "stream", 
                    "text": "Accuracy = 0.589319\nTest Error = 0.410681\n"
                }
            ]
        }, 
        {
            "source": "You can tune your model now to achieve better accuracy. For simplicity of this example tuning section is omitted.", 
            "metadata": {
                "collapsed": true
            }, 
            "cell_type": "markdown"
        }, 
        {
            "source": "<a id=\"persistence\"></a>\n## 4. Persist model", 
            "metadata": {
                "collapsed": true
            }, 
            "cell_type": "markdown"
        }, 
        {
            "source": "In this section you will learn how to store your pipeline and model in Watson Machine Learning repository by using python client libraries.", 
            "metadata": {}, 
            "cell_type": "markdown"
        }, 
        {
            "source": "First, you must import client libraries.\n\n**Note**: Apache\u00ae Spark 2.0 or higher is required.", 
            "metadata": {
                "collapsed": true
            }, 
            "cell_type": "markdown"
        }, 
        {
            "execution_count": 80, 
            "source": "from repository.mlrepositoryclient import MLRepositoryClient\nfrom repository.mlrepositoryartifact import MLRepositoryArtifact", 
            "metadata": {
                "collapsed": true
            }, 
            "cell_type": "code", 
            "outputs": []
        }, 
        {
            "source": "Authenticate to Watson Machine Learning service on Bluemix.", 
            "metadata": {
                "collapsed": true
            }, 
            "cell_type": "markdown"
        }, 
        {
            "source": "**Action**: Put authentication information from your instance of Watson Machine Learning service here.</div>", 
            "metadata": {}, 
            "cell_type": "markdown"
        }, 
        {
            "execution_count": 81, 
            "source": "service_path = 'https://ibm-watson-ml.mybluemix.net'\ninstance_id = '71fe91c9-06bf-42e7-b5ab-5645fd849df1'\nusername = '37ca04e4-8b6e-4312-bdb9-aa7e2e07497a'\npassword = 'aa18f08a-a1b9-4e54-8188-3c675a28f8ec'", 
            "metadata": {
                "collapsed": true
            }, 
            "cell_type": "code", 
            "outputs": []
        }, 
        {
            "source": "**Tip**: service_path, user and password can be found on **Service Credentials** tab of service instance created in Bluemix.", 
            "metadata": {
                "collapsed": true
            }, 
            "cell_type": "markdown"
        }, 
        {
            "execution_count": 82, 
            "source": "ml_repository_client = MLRepositoryClient(service_path)\nml_repository_client.authorize(username, password)", 
            "metadata": {
                "collapsed": true
            }, 
            "cell_type": "code", 
            "outputs": []
        }, 
        {
            "source": "Create model artifact (abstraction layer).", 
            "metadata": {}, 
            "cell_type": "markdown"
        }, 
        {
            "execution_count": 83, 
            "source": "model_artifact = MLRepositoryArtifact(model_rf, training_data=train_data, name=\"Product Line Prediction -Python\")", 
            "metadata": {
                "collapsed": true
            }, 
            "cell_type": "code", 
            "outputs": []
        }, 
        {
            "source": "**Tip**: The MLRepositoryArtifact method expects a trained model object, training data, and a model name. (It is this model name that is displayed by the Watson Machine Learning service).", 
            "metadata": {}, 
            "cell_type": "markdown"
        }, 
        {
            "source": "### 4.1: Save pipeline and model", 
            "metadata": {}, 
            "cell_type": "markdown"
        }, 
        {
            "source": "In this subsection you will learn how to save pipeline and model artifacts to your Watson Machine Learning instance.", 
            "metadata": {}, 
            "cell_type": "markdown"
        }, 
        {
            "execution_count": 84, 
            "source": "saved_model = ml_repository_client.models.save(model_artifact)", 
            "metadata": {
                "collapsed": true
            }, 
            "cell_type": "code", 
            "outputs": []
        }, 
        {
            "source": "Get saved model metadata from Watson Machine Learning.", 
            "metadata": {}, 
            "cell_type": "markdown"
        }, 
        {
            "source": "**Tip**: Use *meta.available_props()* to get the list of available props.", 
            "metadata": {}, 
            "cell_type": "markdown"
        }, 
        {
            "execution_count": 85, 
            "source": "saved_model.meta.available_props()", 
            "metadata": {}, 
            "cell_type": "code", 
            "outputs": [
                {
                    "execution_count": 85, 
                    "data": {
                        "text/plain": "['inputDataSchema',\n 'evaluationMetrics',\n 'pipelineVersionHref',\n 'modelVersionHref',\n 'trainingDataRef',\n 'pipelineType',\n 'creationTime',\n 'lastUpdated',\n 'label',\n 'authorEmail',\n 'trainingDataSchema',\n 'authorName',\n 'version',\n 'modelType',\n 'runtime',\n 'evaluationMethod']"
                    }, 
                    "metadata": {}, 
                    "output_type": "execute_result"
                }
            ]
        }, 
        {
            "execution_count": 86, 
            "source": "print \"modelType: \" + saved_model.meta.prop(\"modelType\")\nprint \"trainingDataSchema: \" + str(saved_model.meta.prop(\"trainingDataSchema\"))\nprint \"creationTime: \" + str(saved_model.meta.prop(\"creationTime\"))\nprint \"modelVersionHref: \" + saved_model.meta.prop(\"modelVersionHref\")\nprint \"label: \" + saved_model.meta.prop(\"label\")", 
            "metadata": {}, 
            "cell_type": "code", 
            "outputs": [
                {
                    "name": "stdout", 
                    "output_type": "stream", 
                    "text": "modelType: sparkml-model-2.0\ntrainingDataSchema: {u'fields': [{u'nullable': True, u'type': u'string', u'name': u'PRODUCT_LINE', u'metadata': {}}, {u'nullable': True, u'type': u'string', u'name': u'GENDER', u'metadata': {}}, {u'nullable': True, u'type': u'integer', u'name': u'AGE', u'metadata': {}}, {u'nullable': True, u'type': u'string', u'name': u'MARITAL_STATUS', u'metadata': {}}, {u'nullable': True, u'type': u'string', u'name': u'PROFESSION', u'metadata': {}}], u'type': u'struct'}\ncreationTime: 2017-08-22 02:12:01.162000+00:00\nmodelVersionHref: https://ibm-watson-ml.mybluemix.net/v2/artifacts/models/b94fc198-e7c8-4780-b59e-0644f32649c3/versions/3b55fb94-0d25-48ef-a00e-6f065d210bee\nlabel: PRODUCT_LINE\n"
                }
            ]
        }, 
        {
            "source": "**Tip**: **modelVersionHref** is our model unique indentifier in the Watson Machine Learning repository.", 
            "metadata": {}, 
            "cell_type": "markdown"
        }, 
        {
            "source": "### 4.2: Load model", 
            "metadata": {}, 
            "cell_type": "markdown"
        }, 
        {
            "source": "In this subsection you will learn how to load back saved model from specified instance of Watson Machine Learning.", 
            "metadata": {}, 
            "cell_type": "markdown"
        }, 
        {
            "execution_count": 87, 
            "source": "loadedModelArtifact = ml_repository_client.models.get(saved_model.uid)", 
            "metadata": {
                "collapsed": true
            }, 
            "cell_type": "code", 
            "outputs": []
        }, 
        {
            "source": "You can print for example model name to make sure that model has been loaded correctly.", 
            "metadata": {}, 
            "cell_type": "markdown"
        }, 
        {
            "execution_count": 88, 
            "source": "print str(loadedModelArtifact.name)", 
            "metadata": {}, 
            "cell_type": "code", 
            "outputs": [
                {
                    "name": "stdout", 
                    "output_type": "stream", 
                    "text": "Product Line Prediction -Python\n"
                }
            ]
        }, 
        {
            "source": "As you can see the name is correct. You have already learned how save and load the model from Watson Machine Learning repository.", 
            "metadata": {}, 
            "cell_type": "markdown"
        }, 
        {
            "source": "<a id=\"visualization\"></a>\n## 5. Predict locally and visualize", 
            "metadata": {}, 
            "cell_type": "markdown"
        }, 
        {
            "source": "In this section you will learn how to score test data using loaded model and visualize the prediction results with plotly package.", 
            "metadata": {}, 
            "cell_type": "markdown"
        }, 
        {
            "source": "### 5.1: Make local prediction using previously loaded model and test data", 
            "metadata": {}, 
            "cell_type": "markdown"
        }, 
        {
            "source": "In this subsection you will score *predict_data* data set.", 
            "metadata": {}, 
            "cell_type": "markdown"
        }, 
        {
            "execution_count": 89, 
            "source": "predictions = loadedModelArtifact.model_instance().transform(predict_data)", 
            "metadata": {
                "collapsed": true
            }, 
            "cell_type": "code", 
            "outputs": []
        }, 
        {
            "source": "Preview the results by calling the *show()* method on the predictions DataFrame.", 
            "metadata": {}, 
            "cell_type": "markdown"
        }, 
        {
            "execution_count": 90, 
            "source": "predictions.show(5)", 
            "metadata": {}, 
            "cell_type": "code", 
            "outputs": [
                {
                    "name": "stdout", 
                    "output_type": "stream", 
                    "text": "+-----------------+------+---+--------------+----------+-----+-------------+---------+-----------------+------------------+--------------------+--------------------+----------+--------------------+\n|     PRODUCT_LINE|GENDER|AGE|MARITAL_STATUS|PROFESSION|label|PROFESSION_IX|GENDER_IX|MARITAL_STATUS_IX|          features|       rawPrediction|         probability|prediction|      predictedLabel|\n+-----------------+------+---+--------------+----------+-----+-------------+---------+-----------------+------------------+--------------------+--------------------+----------+--------------------+\n|Camping Equipment|     F| 20|        Single|     Other|  0.0|          0.0|      1.0|              1.0|[1.0,20.0,1.0,0.0]|[5.54119162527029...|[0.27705958126351...|       1.0|Personal Accessories|\n|Camping Equipment|     F| 20|        Single|     Other|  0.0|          0.0|      1.0|              1.0|[1.0,20.0,1.0,0.0]|[5.54119162527029...|[0.27705958126351...|       1.0|Personal Accessories|\n|Camping Equipment|     F| 20|        Single|     Other|  0.0|          0.0|      1.0|              1.0|[1.0,20.0,1.0,0.0]|[5.54119162527029...|[0.27705958126351...|       1.0|Personal Accessories|\n|Camping Equipment|     F| 20|        Single|     Other|  0.0|          0.0|      1.0|              1.0|[1.0,20.0,1.0,0.0]|[5.54119162527029...|[0.27705958126351...|       1.0|Personal Accessories|\n|Camping Equipment|     F| 21|       Married|     Other|  0.0|          0.0|      1.0|              0.0|[1.0,21.0,0.0,0.0]|[8.54473640086929...|[0.42723682004346...|       0.0|   Camping Equipment|\n+-----------------+------+---+--------------+----------+-----+-------------+---------+-----------------+------------------+--------------------+--------------------+----------+--------------------+\nonly showing top 5 rows\n\n"
                }
            ]
        }, 
        {
            "source": "By tabulating a count, you can see which product line is the most popular.", 
            "metadata": {}, 
            "cell_type": "markdown"
        }, 
        {
            "execution_count": 91, 
            "source": "predictions.select(\"predictedLabel\").groupBy(\"predictedLabel\").count().show()", 
            "metadata": {}, 
            "cell_type": "code", 
            "outputs": [
                {
                    "name": "stdout", 
                    "output_type": "stream", 
                    "text": "+--------------------+-----+\n|      predictedLabel|count|\n+--------------------+-----+\n|   Camping Equipment|  717|\n|      Golf Equipment|   61|\n|Mountaineering Eq...|   75|\n|Personal Accessories|  363|\n+--------------------+-----+\n\n"
                }
            ]
        }, 
        {
            "source": "### 5.2: Sample visualization of data with Plotly package", 
            "metadata": {}, 
            "cell_type": "markdown"
        }, 
        {
            "source": "In this subsection you will explore prediction results with Plotly, which is an online analytics and data visualization tool.", 
            "metadata": {}, 
            "cell_type": "markdown"
        }, 
        {
            "source": "**Example**: First, you need to install required packages. You can do it by running the following code. Run it only one time.<BR><BR>\n!pip install plotly --user <BR>\n!pip install cufflinks==0.8.2 --user", 
            "metadata": {}, 
            "cell_type": "markdown"
        }, 
        {
            "source": "Import Plotly and other required packages.", 
            "metadata": {}, 
            "cell_type": "markdown"
        }, 
        {
            "execution_count": 92, 
            "source": "import sys\nimport pandas\nimport plotly.plotly as py\nfrom plotly.offline import download_plotlyjs, init_notebook_mode, plot, iplot\nimport cufflinks as cf\nimport plotly.graph_objs as go\ninit_notebook_mode(connected=True)\nsys.path.append(\"\".join([os.environ[\"HOME\"]])) ", 
            "metadata": {}, 
            "cell_type": "code", 
            "outputs": [
                {
                    "data": {
                        "text/html": "<script>requirejs.config({paths: { 'plotly': ['https://cdn.plot.ly/plotly-latest.min']},});if(!window.Plotly) {{require(['plotly'],function(plotly) {window.Plotly=plotly;});}}</script>", 
                        "text/vnd.plotly.v1+html": "<script>requirejs.config({paths: { 'plotly': ['https://cdn.plot.ly/plotly-latest.min']},});if(!window.Plotly) {{require(['plotly'],function(plotly) {window.Plotly=plotly;});}}</script>"
                    }, 
                    "metadata": {}, 
                    "output_type": "display_data"
                }
            ]
        }, 
        {
            "source": "Convert the Apache Spark DataFrame to a Pandas DataFrame.", 
            "metadata": {}, 
            "cell_type": "markdown"
        }, 
        {
            "execution_count": 93, 
            "source": "predictions_pdf = predictions.select(\"prediction\", \"predictedLabel\", \"GENDER\", \"AGE\", \"PROFESSION\", \"MARITAL_STATUS\").toPandas()", 
            "metadata": {
                "collapsed": true
            }, 
            "cell_type": "code", 
            "outputs": []
        }, 
        {
            "source": "Plot a pie chart that shows the predicted product-line interest.", 
            "metadata": {}, 
            "cell_type": "markdown"
        }, 
        {
            "execution_count": 94, 
            "source": "cumulative_stats = predictions_pdf.groupby(['predictedLabel']).count()\n\nproduct_data = [go.Pie(\n            labels=cumulative_stats.index,\n            values=cumulative_stats['GENDER'],\n    )]\n\nproduct_layout = go.Layout(\n    title='Predicted product line client interest distribution',\n)\n\nfig = go.Figure(data=product_data, layout=product_layout)\niplot(fig)", 
            "metadata": {}, 
            "cell_type": "code", 
            "outputs": [
                {
                    "data": {
                        "text/html": "<div id=\"88fd08c3-4d16-406e-8823-88126d2b77ee\" style=\"height: 525px; width: 100%;\" class=\"plotly-graph-div\"></div><script type=\"text/javascript\">require([\"plotly\"], function(Plotly) { window.PLOTLYENV=window.PLOTLYENV || {};window.PLOTLYENV.BASE_URL=\"https://plot.ly\";Plotly.newPlot(\"88fd08c3-4d16-406e-8823-88126d2b77ee\", [{\"type\": \"pie\", \"labels\": [\"Camping Equipment\", \"Golf Equipment\", \"Mountaineering Equipment\", \"Personal Accessories\"], \"values\": [717, 61, 75, 363]}], {\"title\": \"Predicted product line client interest distribution\"}, {\"linkText\": \"Export to plot.ly\", \"showLink\": true})});</script>", 
                        "application/vnd.plotly.v1+json": {
                            "data": [
                                {
                                    "labels": [
                                        "Camping Equipment", 
                                        "Golf Equipment", 
                                        "Mountaineering Equipment", 
                                        "Personal Accessories"
                                    ], 
                                    "type": "pie", 
                                    "values": [
                                        717, 
                                        61, 
                                        75, 
                                        363
                                    ]
                                }
                            ], 
                            "layout": {
                                "title": "Predicted product line client interest distribution"
                            }
                        }, 
                        "text/vnd.plotly.v1+html": "<div id=\"88fd08c3-4d16-406e-8823-88126d2b77ee\" style=\"height: 525px; width: 100%;\" class=\"plotly-graph-div\"></div><script type=\"text/javascript\">require([\"plotly\"], function(Plotly) { window.PLOTLYENV=window.PLOTLYENV || {};window.PLOTLYENV.BASE_URL=\"https://plot.ly\";Plotly.newPlot(\"88fd08c3-4d16-406e-8823-88126d2b77ee\", [{\"type\": \"pie\", \"labels\": [\"Camping Equipment\", \"Golf Equipment\", \"Mountaineering Equipment\", \"Personal Accessories\"], \"values\": [717, 61, 75, 363]}], {\"title\": \"Predicted product line client interest distribution\"}, {\"linkText\": \"Export to plot.ly\", \"showLink\": true})});</script>"
                    }, 
                    "metadata": {}, 
                    "output_type": "display_data"
                }
            ]
        }, 
        {
            "source": "With this data set, you might want to do some analysis of the mean AGE per product line by using a bar chart.", 
            "metadata": {}, 
            "cell_type": "markdown"
        }, 
        {
            "execution_count": 95, 
            "source": "age_data = [go.Bar(\n            y=predictions_pdf.groupby(['predictedLabel']).mean()[\"AGE\"],\n            x=cumulative_stats.index\n            \n    )]\n\nage_layout = go.Layout(\n    title='Mean AGE per predicted product line',\n    xaxis=dict(\n        title = \"Product Line\",\n        showline=False,),\n    yaxis=dict(\n        title = \"Mean AGE\",\n        ),\n)\n\nfig = go.Figure(data=age_data, layout=age_layout)\niplot(fig)", 
            "metadata": {}, 
            "cell_type": "code", 
            "outputs": [
                {
                    "data": {
                        "text/html": "<div id=\"ad97058e-8680-4e5a-a1b7-a91222dcd421\" style=\"height: 525px; width: 100%;\" class=\"plotly-graph-div\"></div><script type=\"text/javascript\">require([\"plotly\"], function(Plotly) { window.PLOTLYENV=window.PLOTLYENV || {};window.PLOTLYENV.BASE_URL=\"https://plot.ly\";Plotly.newPlot(\"ad97058e-8680-4e5a-a1b7-a91222dcd421\", [{\"y\": [32.94002789400279, 49.83606557377049, 36.053333333333335, 32.8099173553719], \"x\": [\"Camping Equipment\", \"Golf Equipment\", \"Mountaineering Equipment\", \"Personal Accessories\"], \"type\": \"bar\"}], {\"title\": \"Mean AGE per predicted product line\", \"xaxis\": {\"showline\": false, \"title\": \"Product Line\"}, \"yaxis\": {\"title\": \"Mean AGE\"}}, {\"linkText\": \"Export to plot.ly\", \"showLink\": true})});</script>", 
                        "application/vnd.plotly.v1+json": {
                            "data": [
                                {
                                    "type": "bar", 
                                    "y": [
                                        32.94002789400279, 
                                        49.83606557377049, 
                                        36.053333333333335, 
                                        32.8099173553719
                                    ], 
                                    "x": [
                                        "Camping Equipment", 
                                        "Golf Equipment", 
                                        "Mountaineering Equipment", 
                                        "Personal Accessories"
                                    ]
                                }
                            ], 
                            "layout": {
                                "xaxis": {
                                    "showline": false, 
                                    "title": "Product Line"
                                }, 
                                "yaxis": {
                                    "title": "Mean AGE"
                                }, 
                                "title": "Mean AGE per predicted product line"
                            }
                        }, 
                        "text/vnd.plotly.v1+html": "<div id=\"ad97058e-8680-4e5a-a1b7-a91222dcd421\" style=\"height: 525px; width: 100%;\" class=\"plotly-graph-div\"></div><script type=\"text/javascript\">require([\"plotly\"], function(Plotly) { window.PLOTLYENV=window.PLOTLYENV || {};window.PLOTLYENV.BASE_URL=\"https://plot.ly\";Plotly.newPlot(\"ad97058e-8680-4e5a-a1b7-a91222dcd421\", [{\"y\": [32.94002789400279, 49.83606557377049, 36.053333333333335, 32.8099173553719], \"x\": [\"Camping Equipment\", \"Golf Equipment\", \"Mountaineering Equipment\", \"Personal Accessories\"], \"type\": \"bar\"}], {\"title\": \"Mean AGE per predicted product line\", \"xaxis\": {\"showline\": false, \"title\": \"Product Line\"}, \"yaxis\": {\"title\": \"Mean AGE\"}}, {\"linkText\": \"Export to plot.ly\", \"showLink\": true})});</script>"
                    }, 
                    "metadata": {}, 
                    "output_type": "display_data"
                }
            ]
        }, 
        {
            "source": "Based on bar plot you created, you might make the following conclusion: The mean age for clients that are interested in golf equipment is predicted to be over 50 years old.", 
            "metadata": {}, 
            "cell_type": "markdown"
        }, 
        {
            "source": "<a id=\"scoring\"></a>\n## 6. Deploy and score in a Cloud", 
            "metadata": {}, 
            "cell_type": "markdown"
        }, 
        {
            "source": "In this section you will learn how to create online scoring and to score a new data record by using the Watson Machine Learning REST API. \nFor more information about REST APIs, see the [Swagger Documentation](http://watson-ml-api.mybluemix.net/).", 
            "metadata": {}, 
            "cell_type": "markdown"
        }, 
        {
            "source": "To work with the Watson Machine Leraning REST API you must generate an access token. To do that you can use the following sample code:", 
            "metadata": {
                "collapsed": true
            }, 
            "cell_type": "markdown"
        }, 
        {
            "execution_count": 96, 
            "source": "import urllib3, requests, json\n\nheaders = urllib3.util.make_headers(basic_auth='{}:{}'.format(username, password))\nurl = '{}/v3/identity/token'.format(service_path)\nresponse = requests.get(url, headers=headers)\nmltoken = json.loads(response.text).get('token')", 
            "metadata": {
                "collapsed": true
            }, 
            "cell_type": "code", 
            "outputs": []
        }, 
        {
            "source": "### 6.1: Create online scoring endpoint", 
            "metadata": {}, 
            "cell_type": "markdown"
        }, 
        {
            "source": "Now you can create an online scoring endpoint. ", 
            "metadata": {}, 
            "cell_type": "markdown"
        }, 
        {
            "source": "#### Get published_models url from instance details", 
            "metadata": {}, 
            "cell_type": "markdown"
        }, 
        {
            "execution_count": 97, 
            "source": "endpoint_instance = service_path + \"/v3/wml_instances/\" + instance_id\nheader = {'Content-Type': 'application/json', 'Authorization': 'Bearer ' + mltoken}\n\nresponse_get_instance = requests.get(endpoint_instance, headers=header)\nprint response_get_instance\nprint response_get_instance.text", 
            "metadata": {}, 
            "cell_type": "code", 
            "outputs": [
                {
                    "name": "stdout", 
                    "output_type": "stream", 
                    "text": "<Response [200]>\n{\"metadata\":{\"guid\":\"71fe91c9-06bf-42e7-b5ab-5645fd849df1\",\"url\":\"https://ibm-watson-ml.mybluemix.net/v3/wml_instances/71fe91c9-06bf-42e7-b5ab-5645fd849df1\",\"created_at\":\"2017-08-15T00:45:47.287Z\",\"modified_at\":\"2017-08-22T02:12:01.247Z\"},\"entity\":{\"source\":\"Bluemix\",\"published_models\":{\"url\":\"https://ibm-watson-ml.mybluemix.net/v3/wml_instances/71fe91c9-06bf-42e7-b5ab-5645fd849df1/published_models\"},\"usage\":{\"expiration_date\":\"2017-09-01T00:00:00.000Z\",\"computation_time\":{\"limit\":18000,\"current\":0},\"model_count\":{\"limit\":200,\"current\":1},\"prediction_count\":{\"limit\":5000,\"current\":13},\"deployment_count\":{\"limit\":5,\"current\":0}},\"plan_id\":\"3f6acf43-ede8-413a-ac69-f8af3bb0cbfe\",\"status\":\"Active\",\"organization_guid\":\"05da20ed-dacd-42d4-bb50-c216d4120575\",\"region\":\"us-south\",\"account\":{\"id\":\"500089803\",\"name\":\"STUART MACLEAN's Account\",\"type\":\"TRIAL\"},\"owner\":{\"ibm_id\":\"1200008963\",\"email\":\"smaclean@au.ibm.com\",\"user_id\":\"3c16b06b-0aa5-4f06-a1bd-46975000c0d6\",\"country_code\":\"AUS\",\"beta_user\":true},\"deployments\":{\"url\":\"https://ibm-watson-ml.mybluemix.net/v3/wml_instances/71fe91c9-06bf-42e7-b5ab-5645fd849df1/deployments\"},\"space_guid\":\"2aa4b7f6-8361-4f1f-b519-1819ffdc8efc\",\"plan\":\"free\"}}\n"
                }
            ]
        }, 
        {
            "execution_count": 98, 
            "source": "endpoint_published_models = json.loads(response_get_instance.text).get('entity').get('published_models').get('url')\nprint endpoint_published_models", 
            "metadata": {}, 
            "cell_type": "code", 
            "outputs": [
                {
                    "name": "stdout", 
                    "output_type": "stream", 
                    "text": "https://ibm-watson-ml.mybluemix.net/v3/wml_instances/71fe91c9-06bf-42e7-b5ab-5645fd849df1/published_models\n"
                }
            ]
        }, 
        {
            "source": "Execute the following sample code that uses the published_models endpoint to get deployments url.", 
            "metadata": {}, 
            "cell_type": "markdown"
        }, 
        {
            "source": "#### Get the list of published models", 
            "metadata": {}, 
            "cell_type": "markdown"
        }, 
        {
            "execution_count": 99, 
            "source": "header = {'Content-Type': 'application/json', 'Authorization': 'Bearer ' + mltoken}\n\nresponse_get = requests.get(endpoint_published_models, headers=header)\nprint response_get\nprint response_get.text", 
            "metadata": {}, 
            "cell_type": "code", 
            "outputs": [
                {
                    "name": "stdout", 
                    "output_type": "stream", 
                    "text": "<Response [200]>\n{\"count\":1,\"resources\":[{\"metadata\":{\"guid\":\"b94fc198-e7c8-4780-b59e-0644f32649c3\",\"url\":\"https://ibm-watson-ml.mybluemix.net/v3/wml_instances/71fe91c9-06bf-42e7-b5ab-5645fd849df1/published_models/b94fc198-e7c8-4780-b59e-0644f32649c3\",\"created_at\":\"2017-08-22T02:12:01.162Z\",\"modified_at\":\"2017-08-22T02:12:01.394Z\"},\"entity\":{\"runtime_environment\":\"spark-2.0\",\"author\":{},\"name\":\"Product Line Prediction -Python\",\"label_col\":\"PRODUCT_LINE\",\"training_data_schema\":{\"fields\":[{\"metadata\":{},\"type\":\"string\",\"name\":\"PRODUCT_LINE\",\"nullable\":true},{\"metadata\":{},\"type\":\"string\",\"name\":\"GENDER\",\"nullable\":true},{\"metadata\":{},\"type\":\"integer\",\"name\":\"AGE\",\"nullable\":true},{\"metadata\":{},\"type\":\"string\",\"name\":\"MARITAL_STATUS\",\"nullable\":true},{\"metadata\":{},\"type\":\"string\",\"name\":\"PROFESSION\",\"nullable\":true}],\"type\":\"struct\"},\"latest_version\":{\"url\":\"https://ibm-watson-ml.mybluemix.net/v2/artifacts/models/b94fc198-e7c8-4780-b59e-0644f32649c3/versions/3b55fb94-0d25-48ef-a00e-6f065d210bee\",\"guid\":\"3b55fb94-0d25-48ef-a00e-6f065d210bee\",\"created_at\":\"2017-08-22T02:12:01.394Z\"},\"model_type\":\"sparkml-model-2.0\",\"deployments\":{\"count\":0,\"url\":\"https://ibm-watson-ml.mybluemix.net/v3/wml_instances/71fe91c9-06bf-42e7-b5ab-5645fd849df1/published_models/b94fc198-e7c8-4780-b59e-0644f32649c3/deployments\"},\"input_data_schema\":{\"fields\":[{\"metadata\":{},\"type\":\"string\",\"name\":\"GENDER\",\"nullable\":true},{\"metadata\":{},\"type\":\"integer\",\"name\":\"AGE\",\"nullable\":true},{\"metadata\":{},\"type\":\"string\",\"name\":\"MARITAL_STATUS\",\"nullable\":true},{\"metadata\":{},\"type\":\"string\",\"name\":\"PROFESSION\",\"nullable\":true}],\"type\":\"struct\"}}}]}\n"
                }
            ]
        }, 
        {
            "source": "#### Get published model deployment url", 
            "metadata": {}, 
            "cell_type": "markdown"
        }, 
        {
            "execution_count": 100, 
            "source": "[endpoint_deployments] = [x.get('entity').get('deployments').get('url') for x in json.loads(response_get.text).get('resources') if x.get('metadata').get('guid') == saved_model.uid]\n\nprint endpoint_deployments", 
            "metadata": {}, 
            "cell_type": "code", 
            "outputs": [
                {
                    "name": "stdout", 
                    "output_type": "stream", 
                    "text": "https://ibm-watson-ml.mybluemix.net/v3/wml_instances/71fe91c9-06bf-42e7-b5ab-5645fd849df1/published_models/b94fc198-e7c8-4780-b59e-0644f32649c3/deployments\n"
                }
            ]
        }, 
        {
            "source": "#### Create online deployment for published model", 
            "metadata": {}, 
            "cell_type": "markdown"
        }, 
        {
            "execution_count": 101, 
            "source": "payload_online = {\"name\": \"Product Line Prediction -Python\", \"description\": \"My Cool Deployment -Python\", \"type\": \"online\"}\nresponse_online = requests.post(endpoint_deployments, json=payload_online, headers=header)\n\nprint response_online\nprint response_online.text", 
            "metadata": {}, 
            "cell_type": "code", 
            "outputs": [
                {
                    "name": "stdout", 
                    "output_type": "stream", 
                    "text": "<Response [201]>\n{\"metadata\":{\"guid\":\"ee514e61-bb25-4684-9c24-0826e2b02121\",\"url\":\"https://ibm-watson-ml.mybluemix.net/v3/wml_instances/71fe91c9-06bf-42e7-b5ab-5645fd849df1/published_models/b94fc198-e7c8-4780-b59e-0644f32649c3/deployments/ee514e61-bb25-4684-9c24-0826e2b02121\",\"created_at\":\"2017-08-22T02:12:13.066Z\",\"modified_at\":\"2017-08-22T02:12:15.377Z\"},\"entity\":{\"runtime_environment\":\"spark-2.0\",\"name\":\"Product Line Prediction -Python\",\"scoring_url\":\"https://ibm-watson-ml.mybluemix.net/v3/wml_instances/71fe91c9-06bf-42e7-b5ab-5645fd849df1/published_models/b94fc198-e7c8-4780-b59e-0644f32649c3/deployments/ee514e61-bb25-4684-9c24-0826e2b02121/online\",\"description\":\"My Cool Deployment -Python\",\"published_model\":{\"author\":{},\"name\":\"Product Line Prediction -Python\",\"url\":\"https://ibm-watson-ml.mybluemix.net/v3/wml_instances/71fe91c9-06bf-42e7-b5ab-5645fd849df1/published_models/b94fc198-e7c8-4780-b59e-0644f32649c3\",\"guid\":\"b94fc198-e7c8-4780-b59e-0644f32649c3\",\"created_at\":\"2017-08-22T02:12:13.043Z\"},\"model_type\":\"sparkml-model-2.0\",\"status\":\"INITIALIZING\",\"type\":\"online\",\"deployed_version\":{\"url\":\"https://ibm-watson-ml.mybluemix.net/v2/artifacts/models/b94fc198-e7c8-4780-b59e-0644f32649c3/versions/3b55fb94-0d25-48ef-a00e-6f065d210bee\",\"guid\":\"3b55fb94-0d25-48ef-a00e-6f065d210bee\",\"created_at\":\"2017-08-22T02:12:01.394Z\"}}}\n"
                }
            ]
        }, 
        {
            "execution_count": 102, 
            "source": "scoring_url = json.loads(response_online.text).get('entity').get('scoring_url')\nprint scoring_url", 
            "metadata": {}, 
            "cell_type": "code", 
            "outputs": [
                {
                    "name": "stdout", 
                    "output_type": "stream", 
                    "text": "https://ibm-watson-ml.mybluemix.net/v3/wml_instances/71fe91c9-06bf-42e7-b5ab-5645fd849df1/published_models/b94fc198-e7c8-4780-b59e-0644f32649c3/deployments/ee514e61-bb25-4684-9c24-0826e2b02121/online\n"
                }
            ]
        }, 
        {
            "source": "Now, you can send (POST) new scoring records (new data) for which you would like to get predictions. To do that, execute the following sample code: ", 
            "metadata": {}, 
            "cell_type": "markdown"
        }, 
        {
            "execution_count": 103, 
            "source": "payload_scoring = {\"fields\": [\"GENDER\",\"AGE\",\"MARITAL_STATUS\",\"PROFESSION\"],\"values\": [[\"M\",23,\"Single\",\"Student\"],[\"M\",55,\"Single\",\"Executive\"]]}\nresponse_scoring = requests.post(scoring_url, json=payload_scoring, headers=header)\n\nprint response_scoring.text", 
            "metadata": {}, 
            "cell_type": "code", 
            "outputs": [
                {
                    "name": "stdout", 
                    "output_type": "stream", 
                    "text": "{\n  \"fields\": [\"GENDER\", \"AGE\", \"MARITAL_STATUS\", \"PROFESSION\", \"PRODUCT_LINE\", \"label\", \"PROFESSION_IX\", \"GENDER_IX\", \"MARITAL_STATUS_IX\", \"features\", \"rawPrediction\", \"probability\", \"prediction\", \"predictedLabel\"],\n  \"values\": [[\"M\", 23, \"Single\", \"Student\", \"Camping Equipment\", 0.0, 6.0, 0.0, 1.0, [0.0, 23.0, 1.0, 6.0], [5.600716147152702, 6.482458372136143, 6.048004170730676, 0.20929155492307386, 1.6595297550574055], [0.2800358073576351, 0.32412291860680714, 0.3024002085365338, 0.010464577746153694, 0.08297648775287028], 1.0, \"Personal Accessories\"], [\"M\", 55, \"Single\", \"Executive\", \"Camping Equipment\", 0.0, 3.0, 0.0, 1.0, [0.0, 55.0, 1.0, 3.0], [6.227653744886563, 4.325198862164969, 8.031953760146816, 1.2319759269281225, 0.1832177058735289], [0.3113826872443282, 0.2162599431082485, 0.40159768800734086, 0.06159879634640614, 0.009160885293676447], 2.0, \"Mountaineering Equipment\"]]\n}\n"
                }
            ]
        }, 
        {
            "source": "As we can see we predict that a 23-year-old male student is interested in personal accessories (predictedLabel: Personal Accessories, prediction: 1.0). We can also see that single, 55 years old man is interested in mountaineering equipment.", 
            "metadata": {}, 
            "cell_type": "markdown"
        }, 
        {
            "source": "<a id=\"summary\"></a>\n## 7. Summary and next steps     ", 
            "metadata": {
                "collapsed": true
            }, 
            "cell_type": "markdown"
        }, 
        {
            "source": " You successfully completed this notebook! You learned how to use Apache Spark machine learning as well as Watson Machine Learning for model creation and deployment. Check out our _[Online Documentation](https://console.ng.bluemix.net/docs/services/PredictiveModeling/pm_service_api_spark.html)_ for more samples, tutorials, documentation, how-tos, and blog posts. ", 
            "metadata": {
                "collapsed": true
            }, 
            "cell_type": "markdown"
        }, 
        {
            "source": "### Authors\n\n**Lukasz Cmielowski**, PhD, is a Automation Architect and Data Scientist in IBM with a track record of developing enterprise-level applications that substantially increases clients' ability to turn data into actionable knowledge.", 
            "metadata": {}, 
            "cell_type": "markdown"
        }, 
        {
            "source": "Copyright \u00a9 2017 IBM. This notebook and its source code are released under the terms of the MIT License.", 
            "metadata": {}, 
            "cell_type": "markdown"
        }
    ], 
    "nbformat": 4
}